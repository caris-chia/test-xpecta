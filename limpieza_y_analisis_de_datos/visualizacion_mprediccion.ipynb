{
 "cells": [
  {
   "cell_type": "code",
   "execution_count": null,
   "metadata": {},
   "outputs": [],
   "source": [
    "import pandas as pd\n",
    "import seaborn as sns\n",
    "import matplotlib.pyplot as plt\n",
    "\n",
    "# Load the data to analyze it\n",
    "file_path = '../limpieza_y_analisis_de_datos/cleaned_data_for_regression.csv'\n",
    "data = pd.read_csv(file_path)\n",
    "\n",
    "# Análisis exploratorio inicial con gráficos\n",
    "\n",
    "# Crear histogramas para variables numéricas\n",
    "numerical_columns = ['price', 'bathrooms', 'constructed_area', 'rooms', 'parking_spaces', 'administration']\n",
    "\n",
    "# Generar gráficos para cada columna numérica\n",
    "for column in numerical_columns:\n",
    "    plt.figure(figsize=(8, 4))\n",
    "    plt.hist(data[column], bins=30, edgecolor='k')\n",
    "    plt.xlabel(column, fontsize=12)\n",
    "    plt.ylabel('Frequency', fontsize=12)\n",
    "    plt.title(f'Distribución de {column}', fontsize=14)\n",
    "    plt.grid(axis='y', linestyle='--')\n",
    "    plt.show()\n"
   ]
  },
  {
   "cell_type": "code",
   "execution_count": 25,
   "metadata": {},
   "outputs": [
    {
     "data": {
      "text/html": [
       "<div>\n",
       "<style scoped>\n",
       "    .dataframe tbody tr th:only-of-type {\n",
       "        vertical-align: middle;\n",
       "    }\n",
       "\n",
       "    .dataframe tbody tr th {\n",
       "        vertical-align: top;\n",
       "    }\n",
       "\n",
       "    .dataframe thead th {\n",
       "        text-align: right;\n",
       "    }\n",
       "</style>\n",
       "<table border=\"1\" class=\"dataframe\">\n",
       "  <thead>\n",
       "    <tr style=\"text-align: right;\">\n",
       "      <th></th>\n",
       "      <th>main_location</th>\n",
       "      <th>frequency</th>\n",
       "    </tr>\n",
       "  </thead>\n",
       "  <tbody>\n",
       "    <tr>\n",
       "      <th>0</th>\n",
       "      <td>Santa Barbara, Bogotá, Bogotá, d.c.</td>\n",
       "      <td>465</td>\n",
       "    </tr>\n",
       "    <tr>\n",
       "      <th>1</th>\n",
       "      <td>Chico norte, Bogotá, Bogotá, d.c.</td>\n",
       "      <td>453</td>\n",
       "    </tr>\n",
       "    <tr>\n",
       "      <th>2</th>\n",
       "      <td>Usaquen, Bogotá, Bogotá, d.c.</td>\n",
       "      <td>357</td>\n",
       "    </tr>\n",
       "    <tr>\n",
       "      <th>3</th>\n",
       "      <td>Chapinero, Bogotá, Bogotá, d.c.</td>\n",
       "      <td>320</td>\n",
       "    </tr>\n",
       "    <tr>\n",
       "      <th>4</th>\n",
       "      <td>Los rosales, Bogotá, Bogotá, d.c.</td>\n",
       "      <td>314</td>\n",
       "    </tr>\n",
       "  </tbody>\n",
       "</table>\n",
       "</div>"
      ],
      "text/plain": [
       "                         main_location  frequency\n",
       "0  Santa Barbara, Bogotá, Bogotá, d.c.        465\n",
       "1    Chico norte, Bogotá, Bogotá, d.c.        453\n",
       "2        Usaquen, Bogotá, Bogotá, d.c.        357\n",
       "3      Chapinero, Bogotá, Bogotá, d.c.        320\n",
       "4    Los rosales, Bogotá, Bogotá, d.c.        314"
      ]
     },
     "execution_count": 25,
     "metadata": {},
     "output_type": "execute_result"
    }
   ],
   "source": [
    "# Agrupar los datos por la columna 'main_location' y contar la frecuencia de cada ubicación\n",
    "location_frequency = data['main_location'].value_counts().reset_index()\n",
    "location_frequency.columns = ['main_location', 'frequency']\n",
    "\n",
    "location_frequency.head()\n"
   ]
  },
  {
   "cell_type": "code",
   "execution_count": 26,
   "metadata": {},
   "outputs": [
    {
     "ename": "TypeError",
     "evalue": "OneHotEncoder.__init__() got an unexpected keyword argument 'sparse'",
     "output_type": "error",
     "traceback": [
      "\u001b[0;31m---------------------------------------------------------------------------\u001b[0m",
      "\u001b[0;31mTypeError\u001b[0m                                 Traceback (most recent call last)",
      "\u001b[1;32m/Users/carisandreachiaamaya/Documents/prueba_tecnica_xpecta/limpieza_y_analisis_de_datos/visualizacion_mprediccion.ipynb Celda 3\u001b[0m line \u001b[0;36m1\n\u001b[1;32m     <a href='vscode-notebook-cell:/Users/carisandreachiaamaya/Documents/prueba_tecnica_xpecta/limpieza_y_analisis_de_datos/visualizacion_mprediccion.ipynb#W3sZmlsZQ%3D%3D?line=11'>12</a>\u001b[0m filtered_data \u001b[39m=\u001b[39m data[features \u001b[39m+\u001b[39m [\u001b[39m'\u001b[39m\u001b[39mcost_per_sqm\u001b[39m\u001b[39m'\u001b[39m]]\u001b[39m.\u001b[39mdropna()\n\u001b[1;32m     <a href='vscode-notebook-cell:/Users/carisandreachiaamaya/Documents/prueba_tecnica_xpecta/limpieza_y_analisis_de_datos/visualizacion_mprediccion.ipynb#W3sZmlsZQ%3D%3D?line=13'>14</a>\u001b[0m \u001b[39m# Convertir la variable categórica 'main_location' usando One-Hot Encoding\u001b[39;00m\n\u001b[0;32m---> <a href='vscode-notebook-cell:/Users/carisandreachiaamaya/Documents/prueba_tecnica_xpecta/limpieza_y_analisis_de_datos/visualizacion_mprediccion.ipynb#W3sZmlsZQ%3D%3D?line=14'>15</a>\u001b[0m encoder \u001b[39m=\u001b[39m OneHotEncoder(sparse\u001b[39m=\u001b[39;49m\u001b[39mFalse\u001b[39;49;00m, handle_unknown\u001b[39m=\u001b[39;49m\u001b[39m'\u001b[39;49m\u001b[39mignore\u001b[39;49m\u001b[39m'\u001b[39;49m)\n\u001b[1;32m     <a href='vscode-notebook-cell:/Users/carisandreachiaamaya/Documents/prueba_tecnica_xpecta/limpieza_y_analisis_de_datos/visualizacion_mprediccion.ipynb#W3sZmlsZQ%3D%3D?line=15'>16</a>\u001b[0m encoded_locations \u001b[39m=\u001b[39m encoder\u001b[39m.\u001b[39mfit_transform(filtered_data[[\u001b[39m'\u001b[39m\u001b[39mmain_location\u001b[39m\u001b[39m'\u001b[39m]])\n\u001b[1;32m     <a href='vscode-notebook-cell:/Users/carisandreachiaamaya/Documents/prueba_tecnica_xpecta/limpieza_y_analisis_de_datos/visualizacion_mprediccion.ipynb#W3sZmlsZQ%3D%3D?line=17'>18</a>\u001b[0m \u001b[39m# Crear un nuevo DataFrame con las características codificadas\u001b[39;00m\n",
      "\u001b[0;31mTypeError\u001b[0m: OneHotEncoder.__init__() got an unexpected keyword argument 'sparse'"
     ]
    }
   ],
   "source": [
    "from sklearn.model_selection import train_test_split\n",
    "from sklearn.preprocessing import OneHotEncoder\n",
    "import numpy as np\n",
    "\n",
    "# Crear la variable objetivo: costo por metro cuadrado\n",
    "data['cost_per_sqm'] = data['price'] / data['constructed_area']\n",
    "\n",
    "# Seleccionar las características relevantes\n",
    "features = ['main_location', 'bathrooms', 'rooms', 'parking_spaces', 'constructed_area', 'administration']\n",
    "\n",
    "# Filtrar los datos para eliminar filas con valores faltantes en las características seleccionadas\n",
    "filtered_data = data[features + ['cost_per_sqm']].dropna()\n",
    "\n",
    "# Convertir la variable categórica 'main_location' usando One-Hot Encoding\n",
    "encoder = OneHotEncoder(sparse=False, handle_unknown='ignore')\n",
    "encoded_locations = encoder.fit_transform(filtered_data[['main_location']])\n",
    "\n",
    "# Crear un nuevo DataFrame con las características codificadas\n",
    "encoded_locations_df = pd.DataFrame(encoded_locations, columns=encoder.get_feature_names_out(['main_location']))\n",
    "features_data = pd.concat([filtered_data.reset_index(drop=True), encoded_locations_df], axis=1)\n",
    "features_data.drop(columns=['main_location'], inplace=True)\n",
    "\n",
    "# Definir las características (X) y la variable objetivo (y)\n",
    "X = features_data.drop(columns=['cost_per_sqm'])\n",
    "y = features_data['cost_per_sqm']\n",
    "\n",
    "# Dividir los datos en conjuntos de entrenamiento y prueba\n",
    "X_train, X_test, y_train, y_test = train_test_split(X, y, test_size=0.2, random_state=42)\n",
    "\n",
    "# Mostrar un resumen de los datos procesados para verificar\n",
    "import ace_tools as tools; tools.display_dataframe_to_user(name=\"Datos preprocesados para la predicción del costo por metro cuadrado\", dataframe=X_train)\n"
   ]
  }
 ],
 "metadata": {
  "kernelspec": {
   "display_name": ".venv",
   "language": "python",
   "name": "python3"
  },
  "language_info": {
   "codemirror_mode": {
    "name": "ipython",
    "version": 3
   },
   "file_extension": ".py",
   "mimetype": "text/x-python",
   "name": "python",
   "nbconvert_exporter": "python",
   "pygments_lexer": "ipython3",
   "version": "3.11.5"
  },
  "orig_nbformat": 4
 },
 "nbformat": 4,
 "nbformat_minor": 2
}
